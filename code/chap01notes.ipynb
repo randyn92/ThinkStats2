{
 "cells": [
  {
   "cell_type": "markdown",
   "metadata": {},
   "source": [
    "# DataFrames\n",
    "The result of ReadFixedWidth is a DataFrame"
   ]
  },
  {
   "cell_type": "code",
   "execution_count": 17,
   "metadata": {},
   "outputs": [],
   "source": [
    "import pandas as pd\n",
    "import numpy as np"
   ]
  },
  {
   "cell_type": "code",
   "execution_count": 32,
   "metadata": {},
   "outputs": [
    {
     "name": "stdout",
     "output_type": "stream",
     "text": [
      "       caseid  pregordr  howpreg_n  howpreg_p  moscurrp  nowprgdk  pregend1  \\\n",
      "0           1         1        NaN        NaN       NaN       NaN       6.0   \n",
      "1           1         2        NaN        NaN       NaN       NaN       6.0   \n",
      "2           2         1        NaN        NaN       NaN       NaN       5.0   \n",
      "3           2         2        NaN        NaN       NaN       NaN       6.0   \n",
      "4           2         3        NaN        NaN       NaN       NaN       6.0   \n",
      "5           6         1        NaN        NaN       NaN       NaN       6.0   \n",
      "6           6         2        NaN        NaN       NaN       NaN       6.0   \n",
      "7           6         3        NaN        NaN       NaN       NaN       6.0   \n",
      "8           7         1        NaN        NaN       NaN       NaN       5.0   \n",
      "9           7         2        NaN        NaN       NaN       NaN       5.0   \n",
      "10         12         1        NaN        NaN       NaN       NaN       5.0   \n",
      "11         14         1        NaN        NaN       NaN       NaN       6.0   \n",
      "12         14         2        NaN        NaN       NaN       NaN       6.0   \n",
      "13         14         3        NaN        NaN       NaN       NaN       3.0   \n",
      "14         15         1        NaN        NaN       NaN       NaN       1.0   \n",
      "15         15         2        NaN        NaN       NaN       NaN       6.0   \n",
      "16         15         3        NaN        NaN       NaN       NaN       6.0   \n",
      "17         18         1        NaN        NaN       NaN       NaN       5.0   \n",
      "18         18         2        NaN        NaN       NaN       NaN       1.0   \n",
      "19         21         1        NaN        NaN       NaN       NaN       6.0   \n",
      "20         21         2        NaN        NaN       NaN       NaN       6.0   \n",
      "21         23         1        NaN        NaN       NaN       NaN       6.0   \n",
      "22         23         2        NaN        NaN       NaN       NaN       1.0   \n",
      "23         24         1        NaN        NaN       NaN       NaN       6.0   \n",
      "24         24         2        NaN        NaN       NaN       NaN       6.0   \n",
      "25         24         3        NaN        NaN       NaN       NaN       6.0   \n",
      "26         28         1        NaN        NaN       NaN       NaN       6.0   \n",
      "27         31         1        NaN        NaN       NaN       NaN       6.0   \n",
      "28         31         2        NaN        NaN       NaN       NaN       6.0   \n",
      "29         31         3        NaN        NaN       NaN       NaN       6.0   \n",
      "...       ...       ...        ...        ...       ...       ...       ...   \n",
      "13563   12547         2        NaN        NaN       NaN       NaN       6.0   \n",
      "13564   12547         3        NaN        NaN       NaN       NaN       6.0   \n",
      "13565   12550         1        NaN        NaN       NaN       NaN       6.0   \n",
      "13566   12551         1        NaN        NaN       NaN       NaN       5.0   \n",
      "13567   12554         1        NaN        NaN       NaN       NaN       3.0   \n",
      "13568   12554         2        NaN        NaN       NaN       NaN       4.0   \n",
      "13569   12556         1        NaN        NaN       NaN       NaN       6.0   \n",
      "13570   12556         2        NaN        NaN       NaN       NaN       6.0   \n",
      "13571   12556         3        NaN        NaN       NaN       NaN       6.0   \n",
      "13572   12556         4        NaN        NaN       NaN       NaN       6.0   \n",
      "13573   12561         1        NaN        NaN       NaN       NaN       6.0   \n",
      "13574   12561         2        NaN        NaN       NaN       NaN       6.0   \n",
      "13575   12564         1        NaN        NaN       NaN       NaN       3.0   \n",
      "13576   12565         1        NaN        NaN       NaN       NaN       6.0   \n",
      "13577   12565         2       35.0        1.0       8.0       NaN       NaN   \n",
      "13578   12566         1        NaN        NaN       NaN       NaN       6.0   \n",
      "13579   12566         2        NaN        NaN       NaN       NaN       6.0   \n",
      "13580   12568         1        NaN        NaN       NaN       NaN       1.0   \n",
      "13581   12568         2        NaN        NaN       NaN       NaN       5.0   \n",
      "13582   12568         3        NaN        NaN       NaN       NaN       4.0   \n",
      "13583   12569         1        NaN        NaN       NaN       NaN       3.0   \n",
      "13584   12569         2        NaN        NaN       NaN       NaN       6.0   \n",
      "13585   12570         1        NaN        NaN       NaN       NaN       3.0   \n",
      "13586   12570         2        NaN        NaN       NaN       NaN       3.0   \n",
      "13587   12570         3        NaN        NaN       NaN       NaN       3.0   \n",
      "13588   12571         1        NaN        NaN       NaN       NaN       6.0   \n",
      "13589   12571         2        NaN        NaN       NaN       NaN       3.0   \n",
      "13590   12571         3        NaN        NaN       NaN       NaN       3.0   \n",
      "13591   12571         4        NaN        NaN       NaN       NaN       6.0   \n",
      "13592   12571         5        NaN        NaN       NaN       NaN       6.0   \n",
      "\n",
      "       pregend2  nbrnaliv  multbrth     ...       laborfor_i  religion_i  \\\n",
      "0           NaN       1.0       NaN     ...                0           0   \n",
      "1           NaN       1.0       NaN     ...                0           0   \n",
      "2           NaN       3.0       5.0     ...                0           0   \n",
      "3           NaN       1.0       NaN     ...                0           0   \n",
      "4           NaN       1.0       NaN     ...                0           0   \n",
      "5           NaN       1.0       NaN     ...                0           0   \n",
      "6           NaN       1.0       NaN     ...                0           0   \n",
      "7           NaN       1.0       NaN     ...                0           0   \n",
      "8           NaN       1.0       NaN     ...                0           0   \n",
      "9           NaN       1.0       NaN     ...                0           0   \n",
      "10          NaN       1.0       NaN     ...                0           0   \n",
      "11          NaN       1.0       NaN     ...                0           0   \n",
      "12          NaN       1.0       NaN     ...                0           0   \n",
      "13          NaN       NaN       NaN     ...                0           0   \n",
      "14          NaN       NaN       NaN     ...                0           0   \n",
      "15          NaN       1.0       NaN     ...                0           0   \n",
      "16          NaN       1.0       NaN     ...                0           0   \n",
      "17          NaN       1.0       NaN     ...                0           0   \n",
      "18          NaN       NaN       NaN     ...                0           0   \n",
      "19          NaN       1.0       NaN     ...                0           0   \n",
      "20          NaN       1.0       NaN     ...                0           0   \n",
      "21          NaN       1.0       NaN     ...                0           0   \n",
      "22          NaN       NaN       NaN     ...                0           0   \n",
      "23          NaN       1.0       NaN     ...                0           0   \n",
      "24          NaN       1.0       NaN     ...                0           0   \n",
      "25          NaN       1.0       NaN     ...                0           0   \n",
      "26          NaN       1.0       NaN     ...                0           0   \n",
      "27          NaN       1.0       NaN     ...                0           0   \n",
      "28          NaN       1.0       NaN     ...                0           0   \n",
      "29          NaN       1.0       NaN     ...                0           0   \n",
      "...         ...       ...       ...     ...              ...         ...   \n",
      "13563       NaN       1.0       NaN     ...                0           0   \n",
      "13564       NaN       1.0       NaN     ...                0           0   \n",
      "13565       NaN       1.0       NaN     ...                0           0   \n",
      "13566       NaN       1.0       NaN     ...                0           0   \n",
      "13567       NaN       NaN       NaN     ...                0           0   \n",
      "13568       NaN       NaN       NaN     ...                0           0   \n",
      "13569       NaN       1.0       NaN     ...                0           0   \n",
      "13570       NaN       1.0       NaN     ...                0           0   \n",
      "13571       NaN       1.0       NaN     ...                0           0   \n",
      "13572       NaN       1.0       NaN     ...                0           0   \n",
      "13573       NaN       1.0       NaN     ...                0           0   \n",
      "13574       NaN       1.0       NaN     ...                0           0   \n",
      "13575       NaN       NaN       NaN     ...                0           0   \n",
      "13576       NaN       1.0       NaN     ...                0           0   \n",
      "13577       NaN       NaN       NaN     ...                0           0   \n",
      "13578       NaN       1.0       NaN     ...                0           0   \n",
      "13579       NaN       1.0       NaN     ...                0           0   \n",
      "13580       NaN       NaN       NaN     ...                0           0   \n",
      "13581       NaN       1.0       NaN     ...                0           0   \n",
      "13582       NaN       NaN       NaN     ...                0           0   \n",
      "13583       NaN       NaN       NaN     ...                0           0   \n",
      "13584       NaN       1.0       NaN     ...                0           0   \n",
      "13585       NaN       NaN       NaN     ...                0           0   \n",
      "13586       NaN       NaN       NaN     ...                0           0   \n",
      "13587       NaN       NaN       NaN     ...                0           0   \n",
      "13588       NaN       1.0       NaN     ...                0           0   \n",
      "13589       NaN       NaN       NaN     ...                0           0   \n",
      "13590       NaN       NaN       NaN     ...                0           0   \n",
      "13591       NaN       1.0       NaN     ...                0           0   \n",
      "13592       NaN       1.0       NaN     ...                0           0   \n",
      "\n",
      "       metro_i      basewgt  adj_mod_basewgt      finalwgt  secu_p  sest  \\\n",
      "0            0  3410.389399      3869.349602   6448.271112       2     9   \n",
      "1            0  3410.389399      3869.349602   6448.271112       2     9   \n",
      "2            0  7226.301740      8567.549110  12999.542264       2    12   \n",
      "3            0  7226.301740      8567.549110  12999.542264       2    12   \n",
      "4            0  7226.301740      8567.549110  12999.542264       2    12   \n",
      "5            0  4870.926435      5325.196999   8874.440799       1    23   \n",
      "6            0  4870.926435      5325.196999   8874.440799       1    23   \n",
      "7            0  4870.926435      5325.196999   8874.440799       1    23   \n",
      "8            0  3409.579565      3787.539000   6911.879921       2    14   \n",
      "9            0  3409.579565      3787.539000   6911.879921       2    14   \n",
      "10           0  3612.781968      4146.013572   6909.331618       1    31   \n",
      "11           0  2418.069494      2810.302771   3039.904507       2    56   \n",
      "12           0  2418.069494      2810.302771   3039.904507       2    56   \n",
      "13           0  2418.069494      2810.302771   3039.904507       2    56   \n",
      "14           0  1667.816099      3200.862017   5553.495599       1    33   \n",
      "15           0  1667.816099      3200.862017   5553.495599       1    33   \n",
      "16           0  1667.816099      3200.862017   5553.495599       1    33   \n",
      "17           0  2957.257457      3404.403067   4153.371741       2    14   \n",
      "18           0  2957.257457      3404.403067   4153.371741       2    14   \n",
      "19           0  3408.342437      3965.763949   7237.122630       1    48   \n",
      "20           0  3408.342437      3965.763949   7237.122630       1    48   \n",
      "21           0  6210.373020      8120.841310  13533.382043       2    64   \n",
      "22           0  6210.373020      8120.841310  13533.382043       2    64   \n",
      "23           0  3409.573258      4068.628645   7424.840414       1    27   \n",
      "24           0  3409.573258      4068.628645   7424.840414       1    27   \n",
      "25           0  3409.573258      4068.628645   7424.840414       1    27   \n",
      "26           0  3407.794208      3808.343516   6949.846082       2    57   \n",
      "27           0  3405.679025      4272.084519   5211.943113       1     2   \n",
      "28           0  3405.679025      4272.084519   5211.943113       1     2   \n",
      "29           0  3405.679025      4272.084519   5211.943113       1     2   \n",
      "...        ...          ...              ...           ...     ...   ...   \n",
      "13563        0  3453.545517      6628.022524  11499.619080       1    52   \n",
      "13564        0  3453.545517      6628.022524  11499.619080       1    52   \n",
      "13565        0  3080.452699      3745.326058   5268.550165       1    79   \n",
      "13566        0  2418.538866      3653.453268   3951.940400       2    75   \n",
      "13567        0  1914.676604      2177.957240   2764.045534       2    75   \n",
      "13568        0  1914.676604      2177.957240   2764.045534       2    75   \n",
      "13569        0  2474.619764      3250.573384   3965.699528       1    44   \n",
      "13570        0  2474.619764      3250.573384   3965.699528       1    44   \n",
      "13571        0  2474.619764      3250.573384   3965.699528       1    44   \n",
      "13572        0  2474.619764      3250.573384   3965.699528       1    44   \n",
      "13573        0  2418.089703      2698.650781   4497.301527       1    10   \n",
      "13574        0  2418.089703      2698.650781   4497.301527       1    10   \n",
      "13575        0  1820.850938      2129.214067   2768.191208       2    44   \n",
      "13576        0  3195.641221      3834.241709   6652.409365       1    78   \n",
      "13577        0  3195.641221      3834.241709   6652.409365       1    78   \n",
      "13578        0  2080.317155      2422.820274   2627.548587       2     2   \n",
      "13579        0  2080.317155      2422.820274   2627.548587       2     2   \n",
      "13580        0  2734.687353      4258.980140   7772.212858       2    28   \n",
      "13581        0  2734.687353      4258.980140   7772.212858       2    28   \n",
      "13582        0  2734.687353      4258.980140   7772.212858       2    28   \n",
      "13583        0  2580.967613      2925.167116   5075.164946       2    61   \n",
      "13584        0  2580.967613      2925.167116   5075.164946       2    61   \n",
      "13585        0  5181.311509      6205.829154  11325.017623       2    40   \n",
      "13586        0  5181.311509      6205.829154  11325.017623       2    40   \n",
      "13587        0  5181.311509      6205.829154  11325.017623       2    40   \n",
      "13588        0  4670.540953      5795.692880   6269.200989       1    78   \n",
      "13589        0  4670.540953      5795.692880   6269.200989       1    78   \n",
      "13590        0  4670.540953      5795.692880   6269.200989       1    78   \n",
      "13591        0  4670.540953      5795.692880   6269.200989       1    78   \n",
      "13592        0  4670.540953      5795.692880   6269.200989       1    78   \n",
      "\n",
      "       cmintvw  totalwgt_lb  \n",
      "0          NaN       8.8125  \n",
      "1          NaN       7.8750  \n",
      "2          NaN       9.1250  \n",
      "3          NaN       7.0000  \n",
      "4          NaN       6.1875  \n",
      "5          NaN       8.5625  \n",
      "6          NaN       9.5625  \n",
      "7          NaN       8.3750  \n",
      "8          NaN       7.5625  \n",
      "9          NaN       6.6250  \n",
      "10         NaN       7.8125  \n",
      "11         NaN       7.0000  \n",
      "12         NaN       4.0000  \n",
      "13         NaN          NaN  \n",
      "14         NaN          NaN  \n",
      "15         NaN       7.6875  \n",
      "16         NaN       7.5000  \n",
      "17         NaN       6.3125  \n",
      "18         NaN          NaN  \n",
      "19         NaN       8.7500  \n",
      "20         NaN       8.1875  \n",
      "21         NaN       5.5625  \n",
      "22         NaN          NaN  \n",
      "23         NaN       6.7500  \n",
      "24         NaN       7.3750  \n",
      "25         NaN       6.8125  \n",
      "26         NaN       8.1250  \n",
      "27         NaN       7.1250  \n",
      "28         NaN       6.0625  \n",
      "29         NaN       7.4375  \n",
      "...        ...          ...  \n",
      "13563      NaN       7.6875  \n",
      "13564      NaN       7.6250  \n",
      "13565      NaN       8.1250  \n",
      "13566      NaN       7.5000  \n",
      "13567      NaN          NaN  \n",
      "13568      NaN          NaN  \n",
      "13569      NaN       5.8125  \n",
      "13570      NaN       6.6875  \n",
      "13571      NaN       6.0000  \n",
      "13572      NaN       5.8125  \n",
      "13573      NaN       6.5625  \n",
      "13574      NaN       6.1250  \n",
      "13575      NaN          NaN  \n",
      "13576      NaN       6.4375  \n",
      "13577      NaN          NaN  \n",
      "13578      NaN       6.0000  \n",
      "13579      NaN       7.0000  \n",
      "13580      NaN          NaN  \n",
      "13581      NaN       6.3750  \n",
      "13582      NaN          NaN  \n",
      "13583      NaN          NaN  \n",
      "13584      NaN       6.3750  \n",
      "13585      NaN          NaN  \n",
      "13586      NaN          NaN  \n",
      "13587      NaN          NaN  \n",
      "13588      NaN       6.1875  \n",
      "13589      NaN          NaN  \n",
      "13590      NaN          NaN  \n",
      "13591      NaN       7.5000  \n",
      "13592      NaN       7.5000  \n",
      "\n",
      "[13593 rows x 244 columns]\n"
     ]
    }
   ],
   "source": [
    "import nsfg\n",
    "df = nsfg.ReadFemPreg()\n",
    "print(df)"
   ]
  },
  {
   "cell_type": "code",
   "execution_count": 5,
   "metadata": {},
   "outputs": [
    {
     "data": {
      "text/plain": [
       "Index(['caseid', 'pregordr', 'howpreg_n', 'howpreg_p', 'moscurrp', 'nowprgdk',\n",
       "       'pregend1', 'pregend2', 'nbrnaliv', 'multbrth',\n",
       "       ...\n",
       "       'laborfor_i', 'religion_i', 'metro_i', 'basewgt', 'adj_mod_basewgt',\n",
       "       'finalwgt', 'secu_p', 'sest', 'cmintvw', 'totalwgt_lb'],\n",
       "      dtype='object', length=244)"
      ]
     },
     "execution_count": 5,
     "metadata": {},
     "output_type": "execute_result"
    }
   ],
   "source": [
    "df.columns\n",
    "# Returns an Index data structure"
   ]
  },
  {
   "cell_type": "code",
   "execution_count": 6,
   "metadata": {},
   "outputs": [
    {
     "data": {
      "text/plain": [
       "'pregordr'"
      ]
     },
     "execution_count": 6,
     "metadata": {},
     "output_type": "execute_result"
    }
   ],
   "source": [
    "df.columns[1]"
   ]
  },
  {
   "cell_type": "code",
   "execution_count": 14,
   "metadata": {},
   "outputs": [
    {
     "data": {
      "text/plain": [
       "pandas.core.series.Series"
      ]
     },
     "execution_count": 14,
     "metadata": {},
     "output_type": "execute_result"
    }
   ],
   "source": [
    "# Can user column name as key to access column in DataFrame\n",
    "pregordr = df['pregordr']\n",
    "type(pregordr)\n",
    "# Returns a series"
   ]
  },
  {
   "cell_type": "code",
   "execution_count": 8,
   "metadata": {},
   "outputs": [
    {
     "data": {
      "text/plain": [
       "0        1\n",
       "1        2\n",
       "2        1\n",
       "3        2\n",
       "4        3\n",
       "5        1\n",
       "6        2\n",
       "7        3\n",
       "8        1\n",
       "9        2\n",
       "10       1\n",
       "11       1\n",
       "12       2\n",
       "13       3\n",
       "14       1\n",
       "15       2\n",
       "16       3\n",
       "17       1\n",
       "18       2\n",
       "19       1\n",
       "20       2\n",
       "21       1\n",
       "22       2\n",
       "23       1\n",
       "24       2\n",
       "25       3\n",
       "26       1\n",
       "27       1\n",
       "28       2\n",
       "29       3\n",
       "        ..\n",
       "13563    2\n",
       "13564    3\n",
       "13565    1\n",
       "13566    1\n",
       "13567    1\n",
       "13568    2\n",
       "13569    1\n",
       "13570    2\n",
       "13571    3\n",
       "13572    4\n",
       "13573    1\n",
       "13574    2\n",
       "13575    1\n",
       "13576    1\n",
       "13577    2\n",
       "13578    1\n",
       "13579    2\n",
       "13580    1\n",
       "13581    2\n",
       "13582    3\n",
       "13583    1\n",
       "13584    2\n",
       "13585    1\n",
       "13586    2\n",
       "13587    3\n",
       "13588    1\n",
       "13589    2\n",
       "13590    3\n",
       "13591    4\n",
       "13592    5\n",
       "Name: pregordr, Length: 13593, dtype: int64"
      ]
     },
     "execution_count": 8,
     "metadata": {},
     "output_type": "execute_result"
    }
   ],
   "source": [
    "pregordr"
   ]
  },
  {
   "cell_type": "code",
   "execution_count": 11,
   "metadata": {},
   "outputs": [
    {
     "data": {
      "text/plain": [
       "2    1\n",
       "3    2\n",
       "4    3\n",
       "Name: pregordr, dtype: int64"
      ]
     },
     "execution_count": 11,
     "metadata": {},
     "output_type": "execute_result"
    }
   ],
   "source": [
    "# Can access series using indices and slices\n",
    "pregordr[2:5]"
   ]
  },
  {
   "cell_type": "code",
   "execution_count": 13,
   "metadata": {},
   "outputs": [],
   "source": [
    "# Can also use dot notation to access columns.\n",
    "# This only works if the column name is a valid Python identifier. \n",
    "# ... begins with a letter; no spaces; etc.\n",
    "pregordr = df.pregordr"
   ]
  },
  {
   "cell_type": "markdown",
   "metadata": {},
   "source": [
    "## Transformation\n",
    "\n",
    "Special values are dangerous and can provide bogus results (see cell below).\n",
    "If we change the values to nan, most pandas functions will handle it appropriately.\n",
    "\n",
    "import numpy as np\n",
    "\n",
    "np.nan / 100.0\n",
    "\n",
    "nan"
   ]
  },
  {
   "cell_type": "code",
   "execution_count": 35,
   "metadata": {},
   "outputs": [
    {
     "data": {
      "text/plain": [
       "0        8.0\n",
       "1        7.0\n",
       "2        9.0\n",
       "3        7.0\n",
       "4        6.0\n",
       "5        8.0\n",
       "6        9.0\n",
       "7        8.0\n",
       "8        7.0\n",
       "9        6.0\n",
       "10       7.0\n",
       "11       7.0\n",
       "12       4.0\n",
       "13       NaN\n",
       "14       NaN\n",
       "15       7.0\n",
       "16       7.0\n",
       "17       6.0\n",
       "18       NaN\n",
       "19       8.0\n",
       "20       8.0\n",
       "21       5.0\n",
       "22       NaN\n",
       "23       6.0\n",
       "24       7.0\n",
       "25       6.0\n",
       "26       8.0\n",
       "27       7.0\n",
       "28       6.0\n",
       "29       7.0\n",
       "        ... \n",
       "13563    7.0\n",
       "13564    7.0\n",
       "13565    8.0\n",
       "13566    7.0\n",
       "13567    NaN\n",
       "13568    NaN\n",
       "13569    5.0\n",
       "13570    6.0\n",
       "13571    6.0\n",
       "13572    5.0\n",
       "13573    6.0\n",
       "13574    6.0\n",
       "13575    NaN\n",
       "13576    6.0\n",
       "13577    NaN\n",
       "13578    6.0\n",
       "13579    7.0\n",
       "13580    NaN\n",
       "13581    6.0\n",
       "13582    NaN\n",
       "13583    NaN\n",
       "13584    6.0\n",
       "13585    NaN\n",
       "13586    NaN\n",
       "13587    NaN\n",
       "13588    6.0\n",
       "13589    NaN\n",
       "13590    NaN\n",
       "13591    7.0\n",
       "13592    7.0\n",
       "Name: birthwgt_lb, Length: 13593, dtype: float64"
      ]
     },
     "execution_count": 35,
     "metadata": {},
     "output_type": "execute_result"
    }
   ],
   "source": [
    "# Transformation\n",
    "# Transform special codes (97, 98, 99) into nan, so they won't be counted as 97-99 lb babies.\n",
    "\n",
    "nsfg.CleanFemPreg(df)\n",
    "df.birthwgt_lb"
   ]
  },
  {
   "cell_type": "markdown",
   "metadata": {},
   "source": [
    "## Validation\n",
    "\n",
    "Can validate data by computing basic statistics and comparing them with known results."
   ]
  },
  {
   "cell_type": "code",
   "execution_count": 36,
   "metadata": {},
   "outputs": [
    {
     "data": {
      "text/plain": [
       "1    9148\n",
       "2    1862\n",
       "3     120\n",
       "4    1921\n",
       "5     190\n",
       "6     352\n",
       "Name: outcome, dtype: int64"
      ]
     },
     "execution_count": 36,
     "metadata": {},
     "output_type": "execute_result"
    }
   ],
   "source": [
    "# Count of values (for birth outcomes)\n",
    "df.outcome.value_counts(sort=False)"
   ]
  },
  {
   "cell_type": "code",
   "execution_count": 37,
   "metadata": {},
   "outputs": [
    {
     "data": {
      "text/plain": [
       "8.0     1889\n",
       "7.0     3049\n",
       "6.0     2223\n",
       "4.0      229\n",
       "5.0      697\n",
       "10.0     132\n",
       "12.0      10\n",
       "14.0       3\n",
       "3.0       98\n",
       "1.0       40\n",
       "2.0       53\n",
       "0.0        8\n",
       "9.0      623\n",
       "11.0      26\n",
       "13.0       3\n",
       "15.0       1\n",
       "Name: birthwgt_lb, dtype: int64"
      ]
     },
     "execution_count": 37,
     "metadata": {},
     "output_type": "execute_result"
    }
   ],
   "source": [
    "# Count of values (for birth weights)\n",
    "df.birthwgt_lb.value_counts(sort=False)"
   ]
  },
  {
   "cell_type": "markdown",
   "metadata": {},
   "source": [
    "In the example (not shown here), we have an entry for:\n",
    "51 -> 1\n",
    "\n",
    "Thats a 51 lb baby! Or a data error.\n",
    "To deal with this, we added a line to CleanFemPreg (see below)\n",
    "Note: instead of 51 lbs, we used 15 lbs as an example"
   ]
  },
  {
   "cell_type": "code",
   "execution_count": 45,
   "metadata": {},
   "outputs": [
    {
     "data": {
      "text/plain": [
       "7308    15.0\n",
       "Name: birthwgt_lb, dtype: float64"
      ]
     },
     "execution_count": 45,
     "metadata": {},
     "output_type": "execute_result"
    }
   ],
   "source": [
    "# Using a .loc statement. \n",
    "# The first expression is the row indexer.\n",
    "# The second expression selects the column\n",
    "\n",
    "df.loc[df.birthwgt_lb >= 15, 'birthwgt_lb']"
   ]
  },
  {
   "cell_type": "code",
   "execution_count": 42,
   "metadata": {},
   "outputs": [
    {
     "data": {
      "text/plain": [
       "Series([], Name: birthwgt_lb, dtype: float64)"
      ]
     },
     "execution_count": 42,
     "metadata": {},
     "output_type": "execute_result"
    }
   ],
   "source": []
  }
 ],
 "metadata": {
  "kernelspec": {
   "display_name": "Python 3",
   "language": "python",
   "name": "python3"
  },
  "language_info": {
   "codemirror_mode": {
    "name": "ipython",
    "version": 3
   },
   "file_extension": ".py",
   "mimetype": "text/x-python",
   "name": "python",
   "nbconvert_exporter": "python",
   "pygments_lexer": "ipython3",
   "version": "3.6.4"
  }
 },
 "nbformat": 4,
 "nbformat_minor": 2
}
